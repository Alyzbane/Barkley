{
 "cells": [
  {
   "cell_type": "code",
   "execution_count": 13,
   "id": "043f3537-ed6c-4cd2-98a0-34834caa3d51",
   "metadata": {},
   "outputs": [],
   "source": [
    "import os\n",
    "import copy\n",
    "import requests\n",
    "\n",
    "import torch\n",
    "from PIL import Image\n",
    "from transformers import AutoProcessor, AutoModelForCausalLM\n",
    "\n",
    "%matplotlib inline  "
   ]
  },
  {
   "cell_type": "code",
   "execution_count": null,
   "id": "fe64cf9f-41d6-43a0-a9da-37402489484e",
   "metadata": {},
   "outputs": [
    {
     "name": "stderr",
     "output_type": "stream",
     "text": [
      "/usr/local/lib/python3.10/site-packages/transformers/tokenization_utils_base.py:1601: FutureWarning: `clean_up_tokenization_spaces` was not set. It will be set to `True` by default. This behavior will be depracted in transformers v4.45, and will be then set to `False` by default. For more details check this issue: https://github.com/huggingface/transformers/issues/31884\n",
      "  warnings.warn(\n"
     ]
    }
   ],
   "source": [
    "device = \"cpu\"\n",
    "dtype = torch.float16 if torch.cuda.is_available() else torch.float32\n",
    "model_id = \"models/florence-2-base\"\n",
    "# model = AutoModelForCausalLM.from_pretrained(model_path, torch_dtype=torch_dtype, trust_remote_code=True).to(device)\n",
    "processor = AutoProcessor.from_pretrained(model_id, trust_remote_code=True, local_files_only=True)"
   ]
  },
  {
   "cell_type": "markdown",
   "id": "fc7f7359-d0d9-4b22-9ba8-fe672cceac01",
   "metadata": {},
   "source": [
    "# Model Setup"
   ]
  },
  {
   "cell_type": "code",
   "execution_count": 15,
   "id": "ce34bff5-6caa-4067-a41e-3fbe3ba3e870",
   "metadata": {},
   "outputs": [],
   "source": [
    "#workaround for unnecessary flash_attn requirement\n",
    "from unittest.mock import patch\n",
    "from transformers.dynamic_module_utils import get_imports\n",
    "\n",
    "def fixed_get_imports(filename: str | os.PathLike) -> list[str]:\n",
    "    if not str(filename).endswith(\"modeling_florence2.py\"):\n",
    "        return get_imports(filename)\n",
    "    imports = get_imports(filename)\n",
    "    imports.remove(\"flash_attn\")\n",
    "    return imports"
   ]
  },
  {
   "cell_type": "code",
   "execution_count": null,
   "id": "d344ddd1-480c-45d8-b5e1-1a64fa8c36cc",
   "metadata": {},
   "outputs": [],
   "source": [
    "def run_example(task_prompt, model, image, text_input=None):\n",
    "    if text_input is None:\n",
    "        prompt = task_prompt\n",
    "    else:\n",
    "        prompt = task_prompt + text_input\n",
    "    inputs = processor(text=prompt, images=image, return_tensors=\"pt\").to(device, dtype)\n",
    "    generated_ids = model.generate(\n",
    "      input_ids=inputs[\"input_ids\"],\n",
    "      pixel_values=inputs[\"pixel_values\"],\n",
    "      max_new_tokens=1024,\n",
    "      early_stopping=False,\n",
    "      do_sample=False,\n",
    "      num_beams=3,\n",
    "    )\n",
    "    generated_text = processor.batch_decode(generated_ids, skip_special_tokens=False)[0]\n",
    "    parsed_answer = processor.post_process_generation(\n",
    "        generated_text, \n",
    "        task=task_prompt, \n",
    "        image_size=(image.width, image.height)\n",
    "    )\n",
    "    return parsed_answer"
   ]
  },
  {
   "cell_type": "markdown",
   "id": "35e7c7ef-c17f-4a83-ab8b-d63a7dae639e",
   "metadata": {},
   "source": [
    "# Inference"
   ]
  },
  {
   "cell_type": "code",
   "execution_count": null,
   "id": "4fbb0bf9-42c0-4a71-a792-03a96a0bfdef",
   "metadata": {},
   "outputs": [],
   "source": [
    "with patch(\"transformers.dynamic_module_utils.get_imports\", fixed_get_imports): #workaround for unnecessary flash_attn requirement\n",
    "        model = AutoModelForCausalLM.from_pretrained(model_id, attn_implementation=\"sdpa\", torch_dtype=dtype,trust_remote_code=True, local_files_only=True).to(device)"
   ]
  },
  {
   "cell_type": "code",
   "execution_count": null,
   "id": "06f326b9-084f-4b28-9fef-98393e003ec7",
   "metadata": {},
   "outputs": [],
   "source": [
    "image = Image.open('tree.jpg').resize((224, 224))\n",
    "# processor.save_pretrained(\"patch\")\n",
    "# model.save_pretrained(\"patch\")"
   ]
  },
  {
   "cell_type": "code",
   "execution_count": 21,
   "id": "b918a335-384b-4102-b14c-f93a525dd69e",
   "metadata": {},
   "outputs": [
    {
     "data": {
      "text/plain": [
       "{'<CAPTION>': 'The trunk of a palm tree in a tropical area.'}"
      ]
     },
     "execution_count": 21,
     "metadata": {},
     "output_type": "execute_result"
    }
   ],
   "source": [
    "task_prompt = '<CAPTION>'\n",
    "run_example(task_prompt, model, image)"
   ]
  },
  {
   "cell_type": "code",
   "execution_count": null,
   "id": "42f7aec7-9f95-4079-85c6-e5d4a704701b",
   "metadata": {},
   "outputs": [],
   "source": []
  }
 ],
 "metadata": {
  "kernelspec": {
   "display_name": "Python 3 (ipykernel)",
   "language": "python",
   "name": "python3"
  },
  "language_info": {
   "codemirror_mode": {
    "name": "ipython",
    "version": 3
   },
   "file_extension": ".py",
   "mimetype": "text/x-python",
   "name": "python",
   "nbconvert_exporter": "python",
   "pygments_lexer": "ipython3",
   "version": "3.10.16"
  }
 },
 "nbformat": 4,
 "nbformat_minor": 5
}
